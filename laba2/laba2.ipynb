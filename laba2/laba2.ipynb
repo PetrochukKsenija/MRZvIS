{
 "cells": [
  {
   "cell_type": "code",
   "execution_count": 19,
   "metadata": {},
   "outputs": [],
   "source": [
    "import numpy as np"
   ]
  },
  {
   "cell_type": "code",
   "execution_count": 20,
   "metadata": {},
   "outputs": [],
   "source": [
    "# эталонные значения\n",
    "X1 = [1, 1, 1, 1, 1, 1]\n",
    "X2 = [-1, -1, -1, -1, -1, -1]\n",
    "X3 = [1, -1, -1, 1, 1, 1]\n",
    "X4 = [1, 1, -1, -1, -1, -1]\n",
    "\n",
    "X = np.array([X1, X2, X3, X4])\n",
    "\n",
    "Y1 = [1, 1, 1]\n",
    "Y2 = [-1, -1, -1]\n",
    "Y3 = [-1, 1, 1]\n",
    "Y4 = [1, -1, 1]\n",
    "\n",
    "Y = np.array([Y1, Y2, Y3, Y4])\n"
   ]
  },
  {
   "cell_type": "code",
   "execution_count": 21,
   "metadata": {},
   "outputs": [],
   "source": [
    "def calcWeight(X, Y):\n",
    "    return np.dot(X.T, Y)\n",
    "\n",
    "weight = calcWeight(X, Y)\n",
    "# print('W = ', weight, end = \"\")\n"
   ]
  },
  {
   "cell_type": "code",
   "execution_count": 22,
   "metadata": {},
   "outputs": [],
   "source": [
    "def ForwardBipolarActivation(matrix, weight):\n",
    "    matrix[matrix > 0] = 1\n",
    "    matrix[matrix <= 0] = -1\n",
    "    return np.array(matrix)\n",
    "\n",
    "def BackwardBipolarActivation(matrix, weight):\n",
    "    matrix[matrix >= 0] = 1\n",
    "    matrix[matrix < 0] = -1\n",
    "    return np.array(matrix)\n"
   ]
  },
  {
   "cell_type": "code",
   "execution_count": 23,
   "metadata": {},
   "outputs": [],
   "source": [
    "def forward(Y, weight): \n",
    "  X = np.dot(Y, weight.T) \n",
    "  return ForwardBipolarActivation(X, weight)\n",
    "\n",
    "def backward(X, weight): \n",
    "  Y = np.dot(weight.T, X) \n",
    "  return BackwardBipolarActivation(Y, weight)"
   ]
  },
  {
   "cell_type": "code",
   "execution_count": 24,
   "metadata": {},
   "outputs": [
    {
     "name": "stdout",
     "output_type": "stream",
     "text": [
      "входной вектор:  [ 1. -1. -1. -1.  1.  1.]\n",
      "распознанный вектор:  [ 1 -1 -1  1  1  1]\n"
     ]
    }
   ],
   "source": [
    "simple = np.loadtxt('input.txt')\n",
    "into = simple\n",
    "out=[]\n",
    "key = True\n",
    "while key == True:\n",
    "    out = backward(simple, weight)\n",
    "    for Y_index in Y:\n",
    "        if set(out) == set(Y_index):\n",
    "            key = False\n",
    "            break\n",
    "    simple = forward(out, weight)\n",
    "    for X_index in X:\n",
    "        if set(simple) == set(X_index):\n",
    "            print(\"входной вектор: \", into)\n",
    "            print(\"распознанный вектор: \",X_index)\n",
    "            key = False\n",
    "            break"
   ]
  }
 ],
 "metadata": {
  "interpreter": {
   "hash": "e7370f93d1d0cde622a1f8e1c04877d8463912d04d973331ad4851f04de6915a"
  },
  "kernelspec": {
   "display_name": "Python 3.10.8 64-bit",
   "language": "python",
   "name": "python3"
  },
  "language_info": {
   "codemirror_mode": {
    "name": "ipython",
    "version": 3
   },
   "file_extension": ".py",
   "mimetype": "text/x-python",
   "name": "python",
   "nbconvert_exporter": "python",
   "pygments_lexer": "ipython3",
   "version": "3.10.8"
  },
  "orig_nbformat": 4
 },
 "nbformat": 4,
 "nbformat_minor": 2
}
