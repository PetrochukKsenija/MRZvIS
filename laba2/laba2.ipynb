{
 "cells": [
  {
   "cell_type": "code",
   "execution_count": 320,
   "metadata": {},
   "outputs": [],
   "source": [
    "import numpy as np\n",
    "from PIL import Image"
   ]
  },
  {
   "cell_type": "code",
   "execution_count": 321,
   "metadata": {},
   "outputs": [
    {
     "data": {
      "text/plain": [
       "'\\n00000010100000000\\n00011100000111000\\n00110110001101100\\n01100011011000110\\n11000001110000011\\n10011000010101001\\n10000001100000001\\n10000010011011001\\n11000000000000011\\n01101111000000110\\n00110001000001100\\n00011001010011000\\n00001100000110000\\n00000110001100000\\n00000011011000000\\n10101001110000110\\n00000000100000000\\n'"
      ]
     },
     "execution_count": 321,
     "metadata": {},
     "output_type": "execute_result"
    }
   ],
   "source": [
    "# input image\n",
    "# cup\n",
    "\"\"\"\n",
    "00000000000000000\n",
    "00001001001000010\n",
    "00010010010000000\n",
    "00010010010000100\n",
    "00001001001000000\n",
    "00001001001001000\n",
    "00010010010000000\n",
    "01111111111111100\n",
    "01000000000010010\n",
    "01000111000010010\n",
    "01000000000010010\n",
    "01000100010010010\n",
    "01000000000011100\n",
    "00100111100100000\n",
    "00010000001000000\n",
    "00001111110000110\n",
    "01000000000000000\n",
    "\"\"\"\n",
    "\n",
    "# heart\n",
    "\"\"\"\n",
    "00000010100000000\n",
    "00011100000111000\n",
    "00110110001101100\n",
    "01100011011000110\n",
    "11000001110000011\n",
    "10011000010101001\n",
    "10000001100000001\n",
    "10000010011011001\n",
    "11000000000000011\n",
    "01101111000000110\n",
    "00110001000001100\n",
    "00011001010011000\n",
    "00001100000110000\n",
    "00000110001100000\n",
    "00000011011000000\n",
    "10101001110000110\n",
    "00000000100000000\n",
    "\"\"\""
   ]
  },
  {
   "cell_type": "code",
   "execution_count": 322,
   "metadata": {},
   "outputs": [],
   "source": [
    "from os import listdir\n",
    "image_names = listdir(\"./image\")\n",
    "X = []\n",
    "for image_name in image_names:\n",
    "    with open(f\"./image/{image_name}\", 'r') as file:\n",
    "        lst = file.readlines()\n",
    "\n",
    "    matrix = []\n",
    "    for row in lst:\n",
    "        for x in row:\n",
    "            if x == '1':\n",
    "                matrix.append(1)\n",
    "            elif x == \"0\":\n",
    "                matrix.append(-1)\n",
    "    X.append(matrix)\n",
    "X = np.array(X)\n",
    "# print(X)"
   ]
  },
  {
   "cell_type": "code",
   "execution_count": 323,
   "metadata": {},
   "outputs": [],
   "source": [
    "from os import listdir\n",
    "text_names = listdir(\"./text\")\n",
    "Y = []\n",
    "for text_name in text_names:\n",
    "    with open(f\"./text/{text_name}\", 'r') as file:\n",
    "        lst = file.readlines()\n",
    "\n",
    "    matrix = []\n",
    "    for row in lst:\n",
    "        for y in row:\n",
    "            if y == '1':\n",
    "                matrix.append(1)\n",
    "            elif y == \"0\":\n",
    "                matrix.append(-1)\n",
    "    Y.append(matrix)\n",
    "Y = np.array(Y)\n",
    "# print(Y)"
   ]
  },
  {
   "cell_type": "code",
   "execution_count": 324,
   "metadata": {},
   "outputs": [],
   "source": [
    "def calcWeight(X, Y):\n",
    "    return np.dot(X.T, Y)\n",
    "\n",
    "weight = calcWeight(X, Y)\n",
    "# print(weight)"
   ]
  },
  {
   "cell_type": "code",
   "execution_count": 325,
   "metadata": {},
   "outputs": [],
   "source": [
    "def ForwardBipolarActivation(matrix, weight):\n",
    "    matrix[matrix > 0] = 1\n",
    "    matrix[matrix <= 0] = -1\n",
    "    return np.array(matrix)\n",
    "\n",
    "def BackwardBipolarActivation(matrix, weight):\n",
    "    matrix[matrix >= 0] = 1\n",
    "    matrix[matrix < 0] = -1\n",
    "    return np.array(matrix)\n"
   ]
  },
  {
   "cell_type": "code",
   "execution_count": 326,
   "metadata": {},
   "outputs": [],
   "source": [
    "def forward(Y, weight): \n",
    "  X = np.dot(Y, weight.T) \n",
    "  return ForwardBipolarActivation(X, weight)\n",
    "\n",
    "def backward(X, weight): \n",
    "  Y = np.dot(weight.T, X) \n",
    "  return BackwardBipolarActivation(Y, weight)"
   ]
  },
  {
   "cell_type": "code",
   "execution_count": 327,
   "metadata": {},
   "outputs": [],
   "source": [
    "with open('./input.txt', 'r') as file:\n",
    "        lst = file.readlines()\n",
    "simple = []\n",
    "simple_matrix = []\n",
    "for row in lst:\n",
    "    for y in row:\n",
    "        if y == '1':\n",
    "            simple_matrix.append(1)\n",
    "        elif y == \"0\":\n",
    "            simple_matrix.append(-1)\n",
    "\n",
    "simple = np.array(simple_matrix)\n",
    "# print(simple)"
   ]
  },
  {
   "cell_type": "code",
   "execution_count": 328,
   "metadata": {},
   "outputs": [],
   "source": [
    "def roundMatrix(matrix):\n",
    "    new_matrix = []\n",
    "    for x in matrix:\n",
    "        if x == -1:\n",
    "            new_matrix.append(0)\n",
    "        elif x == 1:\n",
    "            new_matrix.append(1)\n",
    "    # print(new_matrix)\n",
    "    return new_matrix "
   ]
  },
  {
   "cell_type": "code",
   "execution_count": 329,
   "metadata": {},
   "outputs": [],
   "source": [
    "def outputImage(matrix):\n",
    "    new_matrix = roundMatrix(matrix)\n",
    "    num = 1\n",
    "    with open('output_image.txt', 'w') as file:\n",
    "        for i in range(len(new_matrix)):\n",
    "            file.write(f\"{new_matrix[i]}\")\n",
    "            if num % 17 ==0:\n",
    "                file.write('\\n')\n",
    "            num = num + 1\n",
    "\n",
    "def outputText(matrix):\n",
    "    new_matrix = roundMatrix(matrix)\n",
    "    num = 1\n",
    "    with open('output_text.txt', 'w') as file:\n",
    "        for i in range(len(new_matrix)):\n",
    "            file.write(f\"{new_matrix[i]}\")\n",
    "            if num % 21 ==0:\n",
    "                file.write('\\n')\n",
    "            num = num + 1"
   ]
  },
  {
   "cell_type": "code",
   "execution_count": 330,
   "metadata": {},
   "outputs": [],
   "source": [
    "out=[]\n",
    "key = True\n",
    "while key == True:\n",
    "    out = backward(simple, weight)\n",
    "    for Y_index in Y:\n",
    "        if set(out) == set(Y_index):\n",
    "            key = False\n",
    "            break\n",
    "    simple = forward(out, weight)\n",
    "    for X_index in X:\n",
    "        if set(simple) == set(X_index):\n",
    "            outputImage(simple)\n",
    "            outputText(out)\n",
    "            key = False\n",
    "            break"
   ]
  }
 ],
 "metadata": {
  "interpreter": {
   "hash": "e7370f93d1d0cde622a1f8e1c04877d8463912d04d973331ad4851f04de6915a"
  },
  "kernelspec": {
   "display_name": "Python 3.10.8 64-bit",
   "language": "python",
   "name": "python3"
  },
  "language_info": {
   "codemirror_mode": {
    "name": "ipython",
    "version": 3
   },
   "file_extension": ".py",
   "mimetype": "text/x-python",
   "name": "python",
   "nbconvert_exporter": "python",
   "pygments_lexer": "ipython3",
   "version": "3.10.8"
  },
  "orig_nbformat": 4
 },
 "nbformat": 4,
 "nbformat_minor": 2
}
