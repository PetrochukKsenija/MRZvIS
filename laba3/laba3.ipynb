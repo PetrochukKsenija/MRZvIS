{
 "cells": [
  {
   "cell_type": "code",
   "execution_count": 6,
   "metadata": {},
   "outputs": [],
   "source": [
    "import numpy as np\n",
    "from tqdm import tqdm\n",
    "import math\n",
    "from matplotlib import pyplot as plt"
   ]
  },
  {
   "cell_type": "code",
   "execution_count": 7,
   "metadata": {},
   "outputs": [],
   "source": [
    "class JordanNetwork:\n",
    "    def __init__(self, weights=None, input_size=0, reccurent_size=0):\n",
    "        self.input_size = input_size\n",
    "        self.input = np.zeros((input_size, 1))\n",
    "        self.reccurent = np.zeros((reccurent_size, 1))\n",
    "        self.sum = np.zeros((reccurent_size, 1))\n",
    "        self.output = np.zeros((1, 1))\n",
    "        self.output_prev = np.zeros((1, 1))\n",
    "        \n",
    "        self.input_rec_w = np.random.rand(reccurent_size, input_size) / 5 - 0.1\n",
    "        self.output_rec_w = np.random.rand(reccurent_size, 1) / 5 - 0.1\n",
    "        self.rec_output_w = np.random.rand(1, reccurent_size) / 5 - 0.1\n",
    "        self.T_rec = np.random.rand(reccurent_size, 1) / 5 - 0.1\n",
    "        self.T_output = np.random.rand(1, 1) / 5 - 0.1\n",
    "        \n",
    "    \n",
    "    def generate_sequence_with_result(self, sequence, size):\n",
    "        sequences = []\n",
    "        target = []\n",
    "        for i in range(len(sequence) - size - 1):\n",
    "            sequences.append(sequence[i:i + size])\n",
    "            target.append(sequence[i+size])\n",
    "        return np.array(sequences), np.array(target)\n",
    "    \n",
    "    def asinh_deriv(self, value):\n",
    "        return 1/(value**2 + 1)**0.5\n",
    "    \n",
    "    def learn(self, sequence, learn_coef = 0.0001, cycle_num = 1):\n",
    "        dataset, target = self.generate_sequence_with_result(sequence, self.input_size)\n",
    "        for curr_cycle in tqdm(range(cycle_num)):\n",
    "            for seq_num in range(len(dataset)):\n",
    "                self.input = np.array([dataset[seq_num]]).T\n",
    "                self.sum = self.input_rec_w @ self.input + self.output_rec_w @ self.output_prev - self.T_rec\n",
    "                self.reccurent = np.arcsinh(self.sum)\n",
    "                self.output = self.rec_output_w @ self.reccurent - self.T_output\n",
    "                \n",
    "                loss = self.output[0][0] - target[seq_num]\n",
    "                self.input_rec_w  -= learn_coef * loss * (self.rec_output_w.T * self.asinh_deriv(self.sum)) @ self.input.T\n",
    "                self.output_rec_w -= learn_coef * loss * (self.rec_output_w.T * self.asinh_deriv(self.sum)) @ self.output_prev.T\n",
    "                self.T_rec        += learn_coef * loss * self.rec_output_w.T * self.asinh_deriv(self.sum)\n",
    "                self.T_output     += learn_coef * loss\n",
    "                self.rec_output_w -= learn_coef * loss * self.reccurent.T\n",
    "                \n",
    "                self.output_prev = self.output\n",
    "            self.output_prev = np.zeros_like(self.output)\n",
    "            \n",
    "    def predict(self, input, predict_size):\n",
    "        rnn = len(self.input_rec_w)\n",
    "        output = len(self.rec_output_w)\n",
    "        \n",
    "        predicted_continuation = []\n",
    "        \n",
    "        for i in tqdm(range(len(input) - self.input_size + predict_size)):\n",
    "            # a step of a neural network\n",
    "            self.input = np.array([input[i:i + self.input_size]]).T\n",
    "            self.sum = self.input_rec_w @ self.input + self.output_rec_w @ self.output_prev - self.T_rec\n",
    "            self.reccurent = np.arcsinh(self.sum)\n",
    "            self.output = self.rec_output_w @ self.reccurent - self.T_output\n",
    "            \n",
    "            self.output_prev = self.output\n",
    "            \n",
    "            if i >= len(input) - self.input_size: \n",
    "                input.append(self.output[0][0])\n",
    "                predicted_continuation.append(self.output[0][0])\n",
    "        \n",
    "        return predicted_continuation"
   ]
  },
  {
   "cell_type": "code",
   "execution_count": 8,
   "metadata": {},
   "outputs": [],
   "source": [
    "def generate_fib(num):\n",
    "    result = [1,1]\n",
    "    fib1 = 1\n",
    "    fib2 = 1\n",
    "    i = 0\n",
    "    while i < num - 2:\n",
    "        fib_sum = fib1 + fib2\n",
    "        fib1 = fib2\n",
    "        fib2 = fib_sum\n",
    "        i = i + 1\n",
    "        result.append(fib_sum)\n",
    "    return result"
   ]
  },
  {
   "cell_type": "code",
   "execution_count": 17,
   "metadata": {},
   "outputs": [
    {
     "name": "stderr",
     "output_type": "stream",
     "text": [
      "100%|██████████| 50000/50000 [00:12<00:00, 3869.06it/s]\n",
      "100%|██████████| 7/7 [00:00<00:00, 35288.62it/s]"
     ]
    },
    {
     "name": "stdout",
     "output_type": "stream",
     "text": [
      "[5.0034862807131475, 7.989668457293433, 13.006972991684925, 21.00621465638054, 34.022094632516314, 55.012363758486714]\n"
     ]
    },
    {
     "name": "stderr",
     "output_type": "stream",
     "text": [
      "\n"
     ]
    }
   ],
   "source": [
    "NN = JordanNetwork(None, 3, 9)\n",
    "sequence = generate_fib(11)\n",
    "NN.learn(sequence, learn_coef=0.001, cycle_num=50000)\n",
    "print(NN.predict([1,1,2,3],6))"
   ]
  },
  {
   "cell_type": "code",
   "execution_count": 18,
   "metadata": {},
   "outputs": [
    {
     "name": "stderr",
     "output_type": "stream",
     "text": [
      "100%|██████████| 130000/130000 [00:28<00:00, 4550.71it/s]\n",
      "100%|██████████| 6/6 [00:00<00:00, 21219.08it/s]"
     ]
    },
    {
     "name": "stdout",
     "output_type": "stream",
     "text": [
      "[15.991467415494654, 25.01155458346667, 35.97349944138743, 49.04567520098215, 63.95454611733168]\n"
     ]
    },
    {
     "name": "stderr",
     "output_type": "stream",
     "text": [
      "\n"
     ]
    }
   ],
   "source": [
    "NN = JordanNetwork(None, 3, 7)\n",
    "sequence = [x**2 for x in range(10)]\n",
    "NN.learn(sequence, learn_coef=0.00001, cycle_num=130000)\n",
    "print(NN.predict([0,1,4,9], 5))"
   ]
  },
  {
   "cell_type": "code",
   "execution_count": 23,
   "metadata": {},
   "outputs": [
    {
     "name": "stderr",
     "output_type": "stream",
     "text": [
      "100%|██████████| 130000/130000 [00:24<00:00, 5316.18it/s]\n",
      "100%|██████████| 6/6 [00:00<00:00, 30430.26it/s]"
     ]
    },
    {
     "name": "stdout",
     "output_type": "stream",
     "text": [
      "[-0.9999295109095138, 0.0008193140378921289, 0.9996261322240949, -1.0000006196464315, 0.0013616338957999174]\n"
     ]
    },
    {
     "name": "stderr",
     "output_type": "stream",
     "text": [
      "\n"
     ]
    }
   ],
   "source": [
    "NN = JordanNetwork(None, 5, 11)\n",
    "sequence = [-1, 0, 1, -1, 0, 1, -1, 0, 1, -1, 0]\n",
    "NN.learn(sequence, learn_coef=0.00001, cycle_num=130000)\n",
    "print(NN.predict([-1, 0, 1, -1, 0, 1], 5))"
   ]
  }
 ],
 "metadata": {
  "language_info": {
   "name": "python"
  },
  "orig_nbformat": 4
 },
 "nbformat": 4,
 "nbformat_minor": 2
}
