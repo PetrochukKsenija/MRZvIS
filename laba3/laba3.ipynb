{
 "cells": [
  {
   "cell_type": "code",
   "execution_count": 66,
   "metadata": {},
   "outputs": [],
   "source": [
    "import numpy as np\n",
    "import matplotlib.pyplot as plt"
   ]
  },
  {
   "cell_type": "code",
   "execution_count": 67,
   "metadata": {},
   "outputs": [],
   "source": [
    "def choose_sequence():\n",
    "    choose_number = input(\n",
    "        \"Выберите последовательность:\\n 0 - ряд Фибоначчи,\\n 1) - периодическая функция,\\n 2) - степенная функция\\n\")\n",
    "    match choose_number:\n",
    "        case '0':\n",
    "            # ряд Фибоначчи\n",
    "            xs = [[[1, 1]]]\n",
    "            ys = []\n",
    "\n",
    "            i = 0\n",
    "            while i < 12:\n",
    "                ys.append([xs[i][0][0] + xs[i][0][1]])\n",
    "                xs.append([[xs[i][0][1], ys[len(ys) - 1][0]]])\n",
    "                i = i + 1\n",
    "\n",
    "            del xs\n",
    "\n",
    "            data = np.array([[0], [1], [1]] + ys)\n",
    "            data = (data / 1000)\n",
    "            X = np.lib.stride_tricks.sliding_window_view(data, 3, axis=0).reshape(13, 3)\n",
    "            y = np.array([X[i][2] for i in range(1, X.shape[0])] + [X[-1][1:].sum()]).reshape(13, 1)\n",
    "\n",
    "        case '1':\n",
    "            # периодическая функция\n",
    "            data = np.array([-1, 0, 1] * 6)\n",
    "            X = np.lib.stride_tricks.sliding_window_view(data, 4)\n",
    "            y = np.array([X[i][3] for i in range(1, X.shape[0])] + [-1]).reshape(15, 1)\n",
    "\n",
    "        case '2':\n",
    "            # степенная функция\n",
    "            data = np.array([numb ** 2 for numb in range(12)])\n",
    "            data = (data / 1000)\n",
    "            X = np.lib.stride_tricks.sliding_window_view(data, 3, axis=0).reshape(10, 3)\n",
    "            y = np.array([X[i][2] for i in range(1, X.shape[0])] + [X[-1][1:].sum()]).reshape(10, 1)\n",
    "            \n",
    "    return X, y, choose_number"
   ]
  },
  {
   "cell_type": "code",
   "execution_count": 68,
   "metadata": {},
   "outputs": [],
   "source": [
    "def activation_func(x):\n",
    "    return np.tanh(x)\n",
    "\n",
    "\n",
    "def activation_func_der(x):\n",
    "    return 1.0 - x ** 2"
   ]
  },
  {
   "cell_type": "code",
   "execution_count": 69,
   "metadata": {},
   "outputs": [],
   "source": [
    "class JordanNN:\n",
    "    def __init__(self, n_inputs : int, n_outputs : int):\n",
    "        self.layers_sizes = (n_inputs, n_inputs * 2, n_outputs)\n",
    "        self.neuron_values = []\n",
    "        self.neuron_values.append(np.ones(self.layers_sizes[0] + 1 + self.layers_sizes[-1]))\n",
    "        for layer_size in self.layers_sizes[1:]:\n",
    "            self.neuron_values.append(np.ones(layer_size))\n",
    "        self.weights = []\n",
    "        for layer_index in range(2):\n",
    "            self.weights.append(np.zeros((self.neuron_values[layer_index].size,\n",
    "                                         self.neuron_values[layer_index + 1].size)))\n",
    "        self.dw = [0, 0]\n",
    "        self.initialize_weights()\n",
    "\n",
    "    def initialize_weights(self):\n",
    "        for i in range(len(self.weights)):\n",
    "            Z = np.random.randn(self.neuron_values[i].size, self.neuron_values[i + 1].size)\n",
    "            self.weights[i][...] = (2 * Z - 1) * 0.25\n",
    "           \n",
    "    def __call__(self, input_data):\n",
    "        inp_size = self.layers_sizes[0]\n",
    "        self.neuron_values[0][0:inp_size] = input_data\n",
    "        self.neuron_values[0][inp_size:-1] = self.neuron_values[-1]\n",
    "        self.neuron_values[1][...] = activation_func(np.dot(self.neuron_values[0], self.weights[0]))\n",
    "        self.neuron_values[2][...] = np.dot(self.neuron_values[1], self.weights[1])\n",
    "        return self.neuron_values[-1]\n",
    "\n",
    "    def backprop(self, target, lrate=0.001, momentum=0.1):\n",
    "        deltas = []\n",
    "        error = target - self.neuron_values[-1]\n",
    "        delta = error\n",
    "        deltas.append(delta)\n",
    "\n",
    "        for i in range(1, 0, -1):\n",
    "            delta = np.dot(deltas[0], self.weights[i].T) * activation_func_der(self.neuron_values[i])\n",
    "            deltas.insert(0, delta)\n",
    "\n",
    "        for i in range(len(self.weights)):\n",
    "            layer = np.atleast_2d(self.neuron_values[i])\n",
    "            delta = np.atleast_2d(deltas[i])\n",
    "            dw = np.dot(layer.T, delta)\n",
    "            self.weights[i] += lrate * dw + momentum * self.dw[i]\n",
    "            self.dw[i] = dw\n",
    "\n",
    "        return (error ** 2).sum()\n"
   ]
  },
  {
   "cell_type": "code",
   "execution_count": 70,
   "metadata": {},
   "outputs": [
    {
     "data": {
      "image/png": "[encoded data removed]",
      "text/plain": [
       "<Figure size 640x480 with 1 Axes>"
      ]
     },
     "metadata": {},
     "output_type": "display_data"
    },
    {
     "name": "stdout",
     "output_type": "stream",
     "text": [
      "[9.]  --->  [6.45232116]\n",
      "[16.]  --->  [-14.32421836]\n",
      "[25.]  --->  [-5.4564861]\n",
      "[36.]  --->  [9.5485003]\n",
      "[49.]  --->  [27.50769652]\n",
      "[64.]  --->  [48.10287325]\n",
      "[81.]  --->  [71.41351802]\n",
      "[100.]  --->  [97.58545707]\n",
      "[121.]  --->  [126.77965404]\n",
      "[221.]  --->  [159.15670979]\n"
     ]
    }
   ],
   "source": [
    "X, y, sequence = choose_sequence()\n",
    "\n",
    "nn = JordanNN(X.shape[1], y.shape[1])\n",
    "iter_number = 1000\n",
    "err_list = []\n",
    "\n",
    "for iter_index in range(iter_number):\n",
    "    err = 0\n",
    "    for obj_ind in range(X.shape[0]):\n",
    "        out = nn(X[obj_ind])\n",
    "        err += np.abs(out - y[obj_ind])\n",
    "        nn.backprop(y[obj_ind])\n",
    "    err_list.append(err)\n",
    "\n",
    "plt.plot(err_list)\n",
    "plt.show()\n",
    "\n",
    "match sequence:\n",
    "        case '0':\n",
    "            for obj_index in range(X.shape[0]):\n",
    "                output = nn(X[obj_index])\n",
    "                print(y[obj_index]*1000, \" ---> \", output*1000, sep=' ')\n",
    "        case '1':\n",
    "            for obj_index in range(X.shape[0]):\n",
    "                output = nn(X[obj_index])\n",
    "                print(y[obj_index], \" ---> \", output, sep=' ')\n",
    "        case '2':\n",
    "            for obj_index in range(X.shape[0]):\n",
    "                output = nn(X[obj_index])\n",
    "                print(y[obj_index]*1000, \" ---> \", output*1000, sep=' ')\n",
    "    \n",
    "    "
   ]
  }
 ],
 "metadata": {
  "interpreter": {
   "hash": "e7370f93d1d0cde622a1f8e1c04877d8463912d04d973331ad4851f04de6915a"
  },
  "kernelspec": {
   "display_name": "Python 3.10.8 64-bit",
   "language": "python",
   "name": "python3"
  },
  "language_info": {
   "codemirror_mode": {
    "name": "ipython",
    "version": 3
   },
   "file_extension": ".py",
   "mimetype": "text/x-python",
   "name": "python",
   "nbconvert_exporter": "python",
   "pygments_lexer": "ipython3",
   "version": "3.10.8"
  },
  "orig_nbformat": 4
 },
 "nbformat": 4,
 "nbformat_minor": 2
}
